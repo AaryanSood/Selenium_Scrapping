{
 "cells": [
  {
   "cell_type": "code",
   "execution_count": 179,
   "metadata": {},
   "outputs": [],
   "source": [
    "from selenium import webdriver\n",
    "import pandas as pd"
   ]
  },
  {
   "cell_type": "code",
   "execution_count": 180,
   "metadata": {},
   "outputs": [],
   "source": [
    "driver = webdriver.Chrome(r'C:\\Users\\sooda\\Desktop\\chromedriver')"
   ]
  },
  {
   "cell_type": "code",
   "execution_count": 181,
   "metadata": {},
   "outputs": [
    {
     "data": {
      "text/plain": [
       "'Items to be extracted:-\\n1. Hotel Name\\n2. Amenties\\n3. Reviews\\n4. Price\\n5. Their Photos\\n'"
      ]
     },
     "execution_count": 181,
     "metadata": {},
     "output_type": "execute_result"
    }
   ],
   "source": [
    "driver.get('https://www.tripadvisor.com/Hotels-g304551-New_Delhi_National_Capital_Territory_of_Delhi-Hotels.html')\n",
    "\n",
    "'''Items to be extracted:-\n",
    "1. Hotel Name\n",
    "2. Amenties\n",
    "3. Reviews\n",
    "4. Price\n",
    "5. Their Photos\n",
    "'''"
   ]
  },
  {
   "cell_type": "code",
   "execution_count": 182,
   "metadata": {},
   "outputs": [
    {
     "name": "stdout",
     "output_type": "stream",
     "text": [
      "30\n",
      "30\n"
     ]
    }
   ],
   "source": [
    "hotel_name = driver.find_elements_by_class_name('listing_title')\n",
    "prices = driver.find_elements_by_class_name('price-wrap')\n",
    "print(len(hotel_name))\n",
    "print(len(hotel_name))"
   ]
  },
  {
   "cell_type": "code",
   "execution_count": 184,
   "metadata": {},
   "outputs": [
    {
     "name": "stdout",
     "output_type": "stream",
     "text": [
      "30\n"
     ]
    }
   ],
   "source": [
    "print(len(prices))"
   ]
  },
  {
   "cell_type": "code",
   "execution_count": 185,
   "metadata": {},
   "outputs": [],
   "source": [
    "amenities_reviews = driver.find_elements_by_class_name('info-col')"
   ]
  },
  {
   "cell_type": "code",
   "execution_count": 186,
   "metadata": {},
   "outputs": [
    {
     "data": {
      "text/plain": [
       "'7,080 reviews\\n#4 Best Value of 4,135 places to stay in New Delhi\\nFree Wifi\\nFree parking\\nTaking safety measures'"
      ]
     },
     "execution_count": 186,
     "metadata": {},
     "output_type": "execute_result"
    }
   ],
   "source": [
    "amenities_reviews[3].text"
   ]
  },
  {
   "cell_type": "code",
   "execution_count": 187,
   "metadata": {},
   "outputs": [],
   "source": [
    "overall_list = []\n",
    "h_name = []\n",
    "price_text = []\n",
    "amenities_reviews_ = []"
   ]
  },
  {
   "cell_type": "code",
   "execution_count": 188,
   "metadata": {},
   "outputs": [],
   "source": [
    "for i in range(len(prices)):\n",
    "    h_name.append(hotel_name[i].text)\n",
    "    price_text.append(prices[i].text)\n",
    "    #images_src.append(images[i].get_attribute('src'))\n",
    "    amenities_reviews_.append(amenities_reviews[i].text)"
   ]
  },
  {
   "cell_type": "code",
   "execution_count": 189,
   "metadata": {},
   "outputs": [],
   "source": [
    "df = pd.DataFrame({'HotelName': h_name,\n",
    "                  'Price': price_text,\n",
    "                  'Amenities and Reviews':amenities_reviews_})\n",
    "\n",
    "df.to_csv('submission.csv')"
   ]
  },
  {
   "cell_type": "code",
   "execution_count": 190,
   "metadata": {},
   "outputs": [],
   "source": [
    "images = []\n",
    "images = driver.find_elements_by_class_name('_1a4WY7aS')"
   ]
  },
  {
   "cell_type": "code",
   "execution_count": 191,
   "metadata": {},
   "outputs": [
    {
     "name": "stdout",
     "output_type": "stream",
     "text": [
      "https://dynamic-media-cdn.tripadvisor.com/media/photo-o/1a/dc/bd/b4/roseate-house-new-delhi.jpg?w=400&h=400&s=1\n",
      "https://dynamic-media-cdn.tripadvisor.com/media/photo-o/0d/8d/59/9b/roseate-house-exterior.jpg?w=400&h=400&s=1\n",
      "https://dynamic-media-cdn.tripadvisor.com/media/photo-o/05/db/ce/fc/kiyan-pathway.jpg?w=400&h=400&s=1\n",
      "https://dynamic-media-cdn.tripadvisor.com/media/photo-o/1b/63/80/d5/presidential-suite.jpg?w=400&h=400&s=1\n",
      "https://media-cdn.tripadvisor.com/media/photo-m/1280/15/33/fe/a2/new-delhi.jpg\n",
      "https://dynamic-media-cdn.tripadvisor.com/media/photo-o/16/9c/69/f5/pride-plaza-hotel-aerocity.jpg?w=500&h=400&s=1\n",
      "https://dynamic-media-cdn.tripadvisor.com/media/photo-o/09/c8/39/38/pride-plaza-hotel-aerocity.jpg?w=500&h=400&s=1\n",
      "https://dynamic-media-cdn.tripadvisor.com/media/photo-o/1b/86/70/8f/exterior.jpg?w=500&h=400&s=1\n",
      "https://dynamic-media-cdn.tripadvisor.com/media/photo-o/08/4b/e9/1a/vivanta-by-taj-dwarka.jpg?w=500&h=400&s=1\n",
      "https://dynamic-media-cdn.tripadvisor.com/media/photo-o/06/c2/9c/80/the-claridges-new-delhi.jpg?w=500&h=400&s=1\n",
      "https://dynamic-media-cdn.tripadvisor.com/media/photo-o/14/29/82/56/lobby.jpg?w=500&h=400&s=1\n",
      "https://dynamic-media-cdn.tripadvisor.com/media/photo-o/1b/39/3c/ee/the-park-new-delhi.jpg?w=500&h=400&s=1\n",
      "https://dynamic-media-cdn.tripadvisor.com/media/photo-o/1b/4e/9d/16/restaurant.jpg?w=500&h=400&s=1\n",
      "https://dynamic-media-cdn.tripadvisor.com/media/photo-o/19/0a/e8/3b/pool.jpg?w=500&h=400&s=1\n",
      "https://dynamic-media-cdn.tripadvisor.com/media/photo-o/0e/ad/c2/15/andaz-delhi-a-concept.jpg?w=500&h=400&s=1\n",
      "https://dynamic-media-cdn.tripadvisor.com/media/photo-o/1b/86/6e/77/exterior.jpg?w=500&h=400&s=1\n",
      "https://dynamic-media-cdn.tripadvisor.com/media/photo-o/1b/3a/78/39/lobby.jpg?w=500&h=400&s=1\n",
      "https://dynamic-media-cdn.tripadvisor.com/media/photo-o/19/d7/97/a4/exterior.jpg?w=500&h=400&s=1\n",
      "https://dynamic-media-cdn.tripadvisor.com/media/photo-o/19/d7/97/b9/reception.jpg?w=400&h=400&s=1\n",
      "https://dynamic-media-cdn.tripadvisor.com/media/photo-o/1b/45/99/2a/exterior-view.jpg?w=500&h=400&s=1\n",
      "https://dynamic-media-cdn.tripadvisor.com/media/photo-o/04/b6/16/56/ibis-delhi-airport.jpg?w=500&h=400&s=1\n",
      "https://dynamic-media-cdn.tripadvisor.com/media/photo-o/06/e3/8f/55/piccadily-hotel-new-delhi.jpg?w=500&h=400&s=1\n",
      "https://dynamic-media-cdn.tripadvisor.com/media/photo-o/12/11/5e/dd/newly-renovated-banquet.jpg?w=500&h=400&s=1\n",
      "https://dynamic-media-cdn.tripadvisor.com/media/photo-o/0b/5e/2b/9b/pool--v12277862.jpg?w=500&h=400&s=1\n",
      "https://dynamic-media-cdn.tripadvisor.com/media/photo-o/05/e7/4a/80/deluxe-room.jpg?w=500&h=400&s=1\n",
      "https://dynamic-media-cdn.tripadvisor.com/media/photo-o/1b/7b/e5/a0/guest-room.jpg?w=500&h=400&s=1\n",
      "https://dynamic-media-cdn.tripadvisor.com/media/photo-o/15/7c/9d/63/horizon-club.jpg?w=500&h=400&s=1\n",
      "https://dynamic-media-cdn.tripadvisor.com/media/photo-o/14/2a/da/fc/p-20180811-092755-1-p.jpg?w=500&h=400&s=1\n",
      "https://dynamic-media-cdn.tripadvisor.com/media/photo-o/13/57/f7/9b/eros-hotel.jpg?w=500&h=400&s=1\n",
      "https://dynamic-media-cdn.tripadvisor.com/media/photo-o/1c/07/f9/64/exterior.jpg?w=500&h=400&s=1\n",
      "https://dynamic-media-cdn.tripadvisor.com/media/photo-o/05/eb/41/75/holiday-inn-new-delhi.jpg?w=500&h=400&s=1\n",
      "https://dynamic-media-cdn.tripadvisor.com/media/photo-o/0c/dd/84/78/guest-room--v12572332.jpg?w=500&h=400&s=1\n",
      "https://dynamic-media-cdn.tripadvisor.com/media/photo-o/0f/71/b1/b5/holiday-inn-express-new.jpg?w=500&h=400&s=1\n",
      "https://dynamic-media-cdn.tripadvisor.com/media/photo-o/13/96/a1/5c/the-leela-ambience-convention.jpg?w=500&h=400&s=1\n",
      "https://dynamic-media-cdn.tripadvisor.com/media/photo-o/0f/ff/fd/fd/the-leela-ambience-convention.jpg?w=500&h=400&s=1\n",
      "https://dynamic-media-cdn.tripadvisor.com/media/photo-o/09/05/2d/40/red-fox-hotel-delhi-airport.jpg?w=500&h=400&s=1\n",
      "https://dynamic-media-cdn.tripadvisor.com/media/photo-o/1c/0f/4b/2b/red-fox-hotel-delhi-airport.jpg?w=400&h=-1&s=1\n",
      "https://dynamic-media-cdn.tripadvisor.com/media/photo-o/19/69/f6/b7/exterior.jpg?w=500&h=400&s=1\n",
      "https://dynamic-media-cdn.tripadvisor.com/media/photo-o/07/51/e0/79/radisson-blu-hotel-new.jpg?w=500&h=400&s=1\n",
      "https://dynamic-media-cdn.tripadvisor.com/media/photo-o/19/69/c7/6c/exterior-with-porch.jpg?w=400&h=-1&s=1\n",
      "https://dynamic-media-cdn.tripadvisor.com/media/photo-o/03/3f/b7/fe/park-plaza-delhi-cbd.jpg?w=400&h=-1&s=1\n",
      "https://dynamic-media-cdn.tripadvisor.com/media/photo-o/12/9d/a3/85/taurus-sarovar-portico.jpg?w=500&h=400&s=1\n",
      "https://dynamic-media-cdn.tripadvisor.com/media/photo-o/12/b1/5f/9c/taurus-sarovar-portico.jpg?w=500&h=400&s=1\n",
      "https://dynamic-media-cdn.tripadvisor.com/media/photo-o/19/6a/58/83/hotel-exterior.jpg?w=400&h=400&s=1\n",
      "https://dynamic-media-cdn.tripadvisor.com/media/photo-o/09/03/87/39/park-inn-by-radisson.jpg?w=500&h=400&s=1\n",
      "https://dynamic-media-cdn.tripadvisor.com/media/photo-o/0f/e3/df/f4/superior-room--v16856528.jpg?w=500&h=400&s=1\n",
      "https://dynamic-media-cdn.tripadvisor.com/media/photo-o/13/1f/26/f1/theater-style-seating.jpg?w=500&h=400&s=1\n",
      "https://dynamic-media-cdn.tripadvisor.com/media/photo-o/13/e5/2d/41/hotel-delhi-aerocity.jpg?w=500&h=400&s=1\n",
      "https://dynamic-media-cdn.tripadvisor.com/media/photo-o/1b/f8/22/dc/temperature-check-on.jpg?w=500&h=400&s=1\n",
      "https://dynamic-media-cdn.tripadvisor.com/media/photo-o/19/78/49/20/hotel-exterior.jpg?w=400&h=400&s=1\n",
      "https://dynamic-media-cdn.tripadvisor.com/media/photo-o/0e/30/ac/95/business-class-room.jpg?w=500&h=400&s=1\n",
      "https://dynamic-media-cdn.tripadvisor.com/media/photo-o/0e/b0/a7/9b/pool--v15612550.jpg?w=500&h=400&s=1\n",
      "https://dynamic-media-cdn.tripadvisor.com/media/photo-o/18/85/bc/01/hotel-city-park.jpg?w=500&h=400&s=1\n",
      "https://dynamic-media-cdn.tripadvisor.com/media/photo-o/14/d8/87/9d/oyo-12191-hotel-airlift.jpg?w=500&h=400&s=1\n",
      "https://dynamic-media-cdn.tripadvisor.com/media/photo-o/14/a1/af/8b/room.jpg?w=500&h=400&s=1\n"
     ]
    }
   ],
   "source": [
    "for img in images:\n",
    "    print(img.get_attribute('src'))"
   ]
  },
  {
   "cell_type": "code",
   "execution_count": 192,
   "metadata": {},
   "outputs": [],
   "source": [
    "df1 = pd.DataFrame({'Image': images})\n",
    "df1.to_csv('image.csv')"
   ]
  },
  {
   "cell_type": "code",
   "execution_count": 193,
   "metadata": {},
   "outputs": [],
   "source": [
    "driver.close()"
   ]
  },
  {
   "cell_type": "code",
   "execution_count": null,
   "metadata": {},
   "outputs": [],
   "source": []
  }
 ],
 "metadata": {
  "kernelspec": {
   "display_name": "Python 3",
   "language": "python",
   "name": "python3"
  },
  "language_info": {
   "codemirror_mode": {
    "name": "ipython",
    "version": 3
   },
   "file_extension": ".py",
   "mimetype": "text/x-python",
   "name": "python",
   "nbconvert_exporter": "python",
   "pygments_lexer": "ipython3",
   "version": "3.8.3"
  }
 },
 "nbformat": 4,
 "nbformat_minor": 4
}
